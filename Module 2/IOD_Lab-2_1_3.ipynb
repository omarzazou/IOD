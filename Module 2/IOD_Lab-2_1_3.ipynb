{
 "cells": [
  {
   "cell_type": "markdown",
   "metadata": {
    "id": "Qxi_CGp4Wp-1"
   },
   "source": [
    "<div>\n",
    "<img src=https://www.institutedata.com/wp-content/uploads/2019/10/iod_h_tp_primary_c.svg width=\"300\">\n",
    "</div>"
   ]
  },
  {
   "cell_type": "markdown",
   "metadata": {
    "id": "HzUGTgjSWp-2"
   },
   "source": [
    "# Lab 2.1.3 - Central Limit Theorem\n",
    "\n",
    "## Data\n",
    "\n",
    "The Philippine Statistics Authority (PSA) spearheads the conduct of the Family Income and Expenditure Survey (FIES) nationwide. The survey, which is undertaken every three (3) years, is aimed at providing data on family income and expenditure, including, among others, levels of consumption by item of expenditure, sources of income in cash, and related information affecting income and expenditure levels and patterns in the Philippines.\n",
    "\n",
    "You can download the data from [here](https://www.kaggle.com/grosvenpaul/family-income-and-expenditure).\n",
    "\n",
    "The purpose of today's lab is to use simulation to visualize the sampling distribution for the sample mean. The Central Limit Theorem (CLT) tells us that as our sample size gets larger, the sampling distribution of the sample mean converges to a normal distribution. Therefore, when we have a large sample size, we can say that the sampling distribution for the sample mean is approximately normal, regardless of the distribution from which we are sampling.\n",
    "\n",
    "Let's start by taking a look at the data, **`Total Household Income`** will serve as a \"population\" for the purposes of this lab."
   ]
  },
  {
   "cell_type": "code",
   "execution_count": 2,
   "metadata": {
    "id": "1dXTqX_NWp-3"
   },
   "outputs": [],
   "source": [
    "import pandas as pd\n",
    "import numpy as np\n",
    "import matplotlib.pyplot as plt\n",
    "import seaborn as sns\n",
    "\n",
    "%matplotlib inline"
   ]
  },
  {
   "cell_type": "code",
   "execution_count": 3,
   "metadata": {
    "id": "OzOQz3KGWp-6"
   },
   "outputs": [],
   "source": [
    "house_hold_csv = r'C:\\Users\\OmarZazou\\OneDrive - Ediom Pty Ltd\\Documents\\Resources\\Data Science Course\\Course Material\\DATA\\Family_Income_and_Expenditure.csv'\n",
    "# Read CSV\n",
    "household = pd.read_csv(house_hold_csv)"
   ]
  },
  {
   "cell_type": "code",
   "execution_count": 4,
   "metadata": {
    "id": "vLQtYvURWp-8"
   },
   "outputs": [
    {
     "data": {
      "text/html": [
       "<div>\n",
       "<style scoped>\n",
       "    .dataframe tbody tr th:only-of-type {\n",
       "        vertical-align: middle;\n",
       "    }\n",
       "\n",
       "    .dataframe tbody tr th {\n",
       "        vertical-align: top;\n",
       "    }\n",
       "\n",
       "    .dataframe thead th {\n",
       "        text-align: right;\n",
       "    }\n",
       "</style>\n",
       "<table border=\"1\" class=\"dataframe\">\n",
       "  <thead>\n",
       "    <tr style=\"text-align: right;\">\n",
       "      <th></th>\n",
       "      <th>Total Household Income</th>\n",
       "      <th>Region</th>\n",
       "      <th>Total Food Expenditure</th>\n",
       "      <th>Main Source of Income</th>\n",
       "      <th>Agricultural Household indicator</th>\n",
       "      <th>Bread and Cereals Expenditure</th>\n",
       "      <th>Total Rice Expenditure</th>\n",
       "      <th>Meat Expenditure</th>\n",
       "      <th>Total Fish and  marine products Expenditure</th>\n",
       "      <th>Fruit Expenditure</th>\n",
       "      <th>...</th>\n",
       "      <th>Number of Refrigerator/Freezer</th>\n",
       "      <th>Number of Washing Machine</th>\n",
       "      <th>Number of Airconditioner</th>\n",
       "      <th>Number of Car, Jeep, Van</th>\n",
       "      <th>Number of Landline/wireless telephones</th>\n",
       "      <th>Number of Cellular phone</th>\n",
       "      <th>Number of Personal Computer</th>\n",
       "      <th>Number of Stove with Oven/Gas Range</th>\n",
       "      <th>Number of Motorized Banca</th>\n",
       "      <th>Number of Motorcycle/Tricycle</th>\n",
       "    </tr>\n",
       "  </thead>\n",
       "  <tbody>\n",
       "    <tr>\n",
       "      <th>0</th>\n",
       "      <td>480332</td>\n",
       "      <td>CAR</td>\n",
       "      <td>117848</td>\n",
       "      <td>Wage/Salaries</td>\n",
       "      <td>0</td>\n",
       "      <td>42140</td>\n",
       "      <td>38300</td>\n",
       "      <td>24676</td>\n",
       "      <td>16806</td>\n",
       "      <td>3325</td>\n",
       "      <td>...</td>\n",
       "      <td>1</td>\n",
       "      <td>1</td>\n",
       "      <td>0</td>\n",
       "      <td>0</td>\n",
       "      <td>0</td>\n",
       "      <td>2</td>\n",
       "      <td>1</td>\n",
       "      <td>0</td>\n",
       "      <td>0</td>\n",
       "      <td>1</td>\n",
       "    </tr>\n",
       "    <tr>\n",
       "      <th>1</th>\n",
       "      <td>198235</td>\n",
       "      <td>CAR</td>\n",
       "      <td>67766</td>\n",
       "      <td>Wage/Salaries</td>\n",
       "      <td>0</td>\n",
       "      <td>17329</td>\n",
       "      <td>13008</td>\n",
       "      <td>17434</td>\n",
       "      <td>11073</td>\n",
       "      <td>2035</td>\n",
       "      <td>...</td>\n",
       "      <td>0</td>\n",
       "      <td>1</td>\n",
       "      <td>0</td>\n",
       "      <td>0</td>\n",
       "      <td>0</td>\n",
       "      <td>3</td>\n",
       "      <td>1</td>\n",
       "      <td>0</td>\n",
       "      <td>0</td>\n",
       "      <td>2</td>\n",
       "    </tr>\n",
       "    <tr>\n",
       "      <th>2</th>\n",
       "      <td>82785</td>\n",
       "      <td>CAR</td>\n",
       "      <td>61609</td>\n",
       "      <td>Wage/Salaries</td>\n",
       "      <td>1</td>\n",
       "      <td>34182</td>\n",
       "      <td>32001</td>\n",
       "      <td>7783</td>\n",
       "      <td>2590</td>\n",
       "      <td>1730</td>\n",
       "      <td>...</td>\n",
       "      <td>0</td>\n",
       "      <td>0</td>\n",
       "      <td>0</td>\n",
       "      <td>0</td>\n",
       "      <td>0</td>\n",
       "      <td>0</td>\n",
       "      <td>0</td>\n",
       "      <td>0</td>\n",
       "      <td>0</td>\n",
       "      <td>0</td>\n",
       "    </tr>\n",
       "    <tr>\n",
       "      <th>3</th>\n",
       "      <td>107589</td>\n",
       "      <td>CAR</td>\n",
       "      <td>78189</td>\n",
       "      <td>Wage/Salaries</td>\n",
       "      <td>0</td>\n",
       "      <td>34030</td>\n",
       "      <td>28659</td>\n",
       "      <td>10914</td>\n",
       "      <td>10812</td>\n",
       "      <td>690</td>\n",
       "      <td>...</td>\n",
       "      <td>0</td>\n",
       "      <td>0</td>\n",
       "      <td>0</td>\n",
       "      <td>0</td>\n",
       "      <td>0</td>\n",
       "      <td>1</td>\n",
       "      <td>0</td>\n",
       "      <td>0</td>\n",
       "      <td>0</td>\n",
       "      <td>0</td>\n",
       "    </tr>\n",
       "    <tr>\n",
       "      <th>4</th>\n",
       "      <td>189322</td>\n",
       "      <td>CAR</td>\n",
       "      <td>94625</td>\n",
       "      <td>Wage/Salaries</td>\n",
       "      <td>0</td>\n",
       "      <td>34820</td>\n",
       "      <td>30167</td>\n",
       "      <td>18391</td>\n",
       "      <td>11309</td>\n",
       "      <td>1395</td>\n",
       "      <td>...</td>\n",
       "      <td>1</td>\n",
       "      <td>0</td>\n",
       "      <td>0</td>\n",
       "      <td>0</td>\n",
       "      <td>0</td>\n",
       "      <td>3</td>\n",
       "      <td>0</td>\n",
       "      <td>0</td>\n",
       "      <td>0</td>\n",
       "      <td>1</td>\n",
       "    </tr>\n",
       "  </tbody>\n",
       "</table>\n",
       "<p>5 rows × 60 columns</p>\n",
       "</div>"
      ],
      "text/plain": [
       "   Total Household Income Region  Total Food Expenditure  \\\n",
       "0                  480332    CAR                  117848   \n",
       "1                  198235    CAR                   67766   \n",
       "2                   82785    CAR                   61609   \n",
       "3                  107589    CAR                   78189   \n",
       "4                  189322    CAR                   94625   \n",
       "\n",
       "  Main Source of Income  Agricultural Household indicator  \\\n",
       "0         Wage/Salaries                                 0   \n",
       "1         Wage/Salaries                                 0   \n",
       "2         Wage/Salaries                                 1   \n",
       "3         Wage/Salaries                                 0   \n",
       "4         Wage/Salaries                                 0   \n",
       "\n",
       "   Bread and Cereals Expenditure  Total Rice Expenditure  Meat Expenditure  \\\n",
       "0                          42140                   38300             24676   \n",
       "1                          17329                   13008             17434   \n",
       "2                          34182                   32001              7783   \n",
       "3                          34030                   28659             10914   \n",
       "4                          34820                   30167             18391   \n",
       "\n",
       "   Total Fish and  marine products Expenditure  Fruit Expenditure  ...  \\\n",
       "0                                        16806               3325  ...   \n",
       "1                                        11073               2035  ...   \n",
       "2                                         2590               1730  ...   \n",
       "3                                        10812                690  ...   \n",
       "4                                        11309               1395  ...   \n",
       "\n",
       "   Number of Refrigerator/Freezer  Number of Washing Machine  \\\n",
       "0                               1                          1   \n",
       "1                               0                          1   \n",
       "2                               0                          0   \n",
       "3                               0                          0   \n",
       "4                               1                          0   \n",
       "\n",
       "   Number of Airconditioner  Number of Car, Jeep, Van  \\\n",
       "0                         0                         0   \n",
       "1                         0                         0   \n",
       "2                         0                         0   \n",
       "3                         0                         0   \n",
       "4                         0                         0   \n",
       "\n",
       "   Number of Landline/wireless telephones  Number of Cellular phone  \\\n",
       "0                                       0                         2   \n",
       "1                                       0                         3   \n",
       "2                                       0                         0   \n",
       "3                                       0                         1   \n",
       "4                                       0                         3   \n",
       "\n",
       "   Number of Personal Computer  Number of Stove with Oven/Gas Range  \\\n",
       "0                            1                                    0   \n",
       "1                            1                                    0   \n",
       "2                            0                                    0   \n",
       "3                            0                                    0   \n",
       "4                            0                                    0   \n",
       "\n",
       "   Number of Motorized Banca  Number of Motorcycle/Tricycle  \n",
       "0                          0                              1  \n",
       "1                          0                              2  \n",
       "2                          0                              0  \n",
       "3                          0                              0  \n",
       "4                          0                              1  \n",
       "\n",
       "[5 rows x 60 columns]"
      ]
     },
     "execution_count": 4,
     "metadata": {},
     "output_type": "execute_result"
    }
   ],
   "source": [
    "# Head\n",
    "household.head()"
   ]
  },
  {
   "cell_type": "code",
   "execution_count": 5,
   "metadata": {
    "id": "uin2jPA-Wp-_"
   },
   "outputs": [
    {
     "data": {
      "text/html": [
       "<div>\n",
       "<style scoped>\n",
       "    .dataframe tbody tr th:only-of-type {\n",
       "        vertical-align: middle;\n",
       "    }\n",
       "\n",
       "    .dataframe tbody tr th {\n",
       "        vertical-align: top;\n",
       "    }\n",
       "\n",
       "    .dataframe thead th {\n",
       "        text-align: right;\n",
       "    }\n",
       "</style>\n",
       "<table border=\"1\" class=\"dataframe\">\n",
       "  <thead>\n",
       "    <tr style=\"text-align: right;\">\n",
       "      <th></th>\n",
       "      <th>Total Household Income</th>\n",
       "      <th>Region</th>\n",
       "      <th>Total Food Expenditure</th>\n",
       "      <th>Main Source of Income</th>\n",
       "      <th>Agricultural Household indicator</th>\n",
       "      <th>Bread and Cereals Expenditure</th>\n",
       "      <th>Total Rice Expenditure</th>\n",
       "      <th>Meat Expenditure</th>\n",
       "      <th>Total Fish and  marine products Expenditure</th>\n",
       "      <th>Fruit Expenditure</th>\n",
       "      <th>...</th>\n",
       "      <th>Number of Refrigerator/Freezer</th>\n",
       "      <th>Number of Washing Machine</th>\n",
       "      <th>Number of Airconditioner</th>\n",
       "      <th>Number of Car, Jeep, Van</th>\n",
       "      <th>Number of Landline/wireless telephones</th>\n",
       "      <th>Number of Cellular phone</th>\n",
       "      <th>Number of Personal Computer</th>\n",
       "      <th>Number of Stove with Oven/Gas Range</th>\n",
       "      <th>Number of Motorized Banca</th>\n",
       "      <th>Number of Motorcycle/Tricycle</th>\n",
       "    </tr>\n",
       "  </thead>\n",
       "  <tbody>\n",
       "    <tr>\n",
       "      <th>41539</th>\n",
       "      <td>119773</td>\n",
       "      <td>XII - SOCCSKSARGEN</td>\n",
       "      <td>44875</td>\n",
       "      <td>Enterpreneurial Activities</td>\n",
       "      <td>1</td>\n",
       "      <td>23675</td>\n",
       "      <td>21542</td>\n",
       "      <td>1476</td>\n",
       "      <td>6120</td>\n",
       "      <td>1632</td>\n",
       "      <td>...</td>\n",
       "      <td>0</td>\n",
       "      <td>0</td>\n",
       "      <td>0</td>\n",
       "      <td>0</td>\n",
       "      <td>0</td>\n",
       "      <td>1</td>\n",
       "      <td>0</td>\n",
       "      <td>0</td>\n",
       "      <td>0</td>\n",
       "      <td>0</td>\n",
       "    </tr>\n",
       "    <tr>\n",
       "      <th>41540</th>\n",
       "      <td>137320</td>\n",
       "      <td>XII - SOCCSKSARGEN</td>\n",
       "      <td>31157</td>\n",
       "      <td>Enterpreneurial Activities</td>\n",
       "      <td>1</td>\n",
       "      <td>2691</td>\n",
       "      <td>1273</td>\n",
       "      <td>1886</td>\n",
       "      <td>4386</td>\n",
       "      <td>1840</td>\n",
       "      <td>...</td>\n",
       "      <td>0</td>\n",
       "      <td>0</td>\n",
       "      <td>0</td>\n",
       "      <td>0</td>\n",
       "      <td>0</td>\n",
       "      <td>3</td>\n",
       "      <td>0</td>\n",
       "      <td>0</td>\n",
       "      <td>0</td>\n",
       "      <td>0</td>\n",
       "    </tr>\n",
       "    <tr>\n",
       "      <th>41541</th>\n",
       "      <td>133171</td>\n",
       "      <td>XII - SOCCSKSARGEN</td>\n",
       "      <td>45882</td>\n",
       "      <td>Enterpreneurial Activities</td>\n",
       "      <td>2</td>\n",
       "      <td>28646</td>\n",
       "      <td>27339</td>\n",
       "      <td>480</td>\n",
       "      <td>4796</td>\n",
       "      <td>1232</td>\n",
       "      <td>...</td>\n",
       "      <td>0</td>\n",
       "      <td>0</td>\n",
       "      <td>0</td>\n",
       "      <td>0</td>\n",
       "      <td>0</td>\n",
       "      <td>1</td>\n",
       "      <td>0</td>\n",
       "      <td>0</td>\n",
       "      <td>0</td>\n",
       "      <td>0</td>\n",
       "    </tr>\n",
       "    <tr>\n",
       "      <th>41542</th>\n",
       "      <td>129500</td>\n",
       "      <td>XII - SOCCSKSARGEN</td>\n",
       "      <td>81416</td>\n",
       "      <td>Enterpreneurial Activities</td>\n",
       "      <td>1</td>\n",
       "      <td>29996</td>\n",
       "      <td>26655</td>\n",
       "      <td>2359</td>\n",
       "      <td>17730</td>\n",
       "      <td>2923</td>\n",
       "      <td>...</td>\n",
       "      <td>0</td>\n",
       "      <td>0</td>\n",
       "      <td>0</td>\n",
       "      <td>0</td>\n",
       "      <td>0</td>\n",
       "      <td>2</td>\n",
       "      <td>0</td>\n",
       "      <td>0</td>\n",
       "      <td>0</td>\n",
       "      <td>0</td>\n",
       "    </tr>\n",
       "    <tr>\n",
       "      <th>41543</th>\n",
       "      <td>128598</td>\n",
       "      <td>XII - SOCCSKSARGEN</td>\n",
       "      <td>78195</td>\n",
       "      <td>Enterpreneurial Activities</td>\n",
       "      <td>1</td>\n",
       "      <td>43485</td>\n",
       "      <td>41205</td>\n",
       "      <td>1985</td>\n",
       "      <td>7735</td>\n",
       "      <td>2062</td>\n",
       "      <td>...</td>\n",
       "      <td>0</td>\n",
       "      <td>0</td>\n",
       "      <td>0</td>\n",
       "      <td>0</td>\n",
       "      <td>0</td>\n",
       "      <td>1</td>\n",
       "      <td>0</td>\n",
       "      <td>0</td>\n",
       "      <td>0</td>\n",
       "      <td>0</td>\n",
       "    </tr>\n",
       "  </tbody>\n",
       "</table>\n",
       "<p>5 rows × 60 columns</p>\n",
       "</div>"
      ],
      "text/plain": [
       "       Total Household Income              Region  Total Food Expenditure  \\\n",
       "41539                  119773  XII - SOCCSKSARGEN                   44875   \n",
       "41540                  137320  XII - SOCCSKSARGEN                   31157   \n",
       "41541                  133171  XII - SOCCSKSARGEN                   45882   \n",
       "41542                  129500  XII - SOCCSKSARGEN                   81416   \n",
       "41543                  128598  XII - SOCCSKSARGEN                   78195   \n",
       "\n",
       "            Main Source of Income  Agricultural Household indicator  \\\n",
       "41539  Enterpreneurial Activities                                 1   \n",
       "41540  Enterpreneurial Activities                                 1   \n",
       "41541  Enterpreneurial Activities                                 2   \n",
       "41542  Enterpreneurial Activities                                 1   \n",
       "41543  Enterpreneurial Activities                                 1   \n",
       "\n",
       "       Bread and Cereals Expenditure  Total Rice Expenditure  \\\n",
       "41539                          23675                   21542   \n",
       "41540                           2691                    1273   \n",
       "41541                          28646                   27339   \n",
       "41542                          29996                   26655   \n",
       "41543                          43485                   41205   \n",
       "\n",
       "       Meat Expenditure  Total Fish and  marine products Expenditure  \\\n",
       "41539              1476                                         6120   \n",
       "41540              1886                                         4386   \n",
       "41541               480                                         4796   \n",
       "41542              2359                                        17730   \n",
       "41543              1985                                         7735   \n",
       "\n",
       "       Fruit Expenditure  ...  Number of Refrigerator/Freezer  \\\n",
       "41539               1632  ...                               0   \n",
       "41540               1840  ...                               0   \n",
       "41541               1232  ...                               0   \n",
       "41542               2923  ...                               0   \n",
       "41543               2062  ...                               0   \n",
       "\n",
       "       Number of Washing Machine  Number of Airconditioner  \\\n",
       "41539                          0                         0   \n",
       "41540                          0                         0   \n",
       "41541                          0                         0   \n",
       "41542                          0                         0   \n",
       "41543                          0                         0   \n",
       "\n",
       "       Number of Car, Jeep, Van  Number of Landline/wireless telephones  \\\n",
       "41539                         0                                       0   \n",
       "41540                         0                                       0   \n",
       "41541                         0                                       0   \n",
       "41542                         0                                       0   \n",
       "41543                         0                                       0   \n",
       "\n",
       "       Number of Cellular phone  Number of Personal Computer  \\\n",
       "41539                         1                            0   \n",
       "41540                         3                            0   \n",
       "41541                         1                            0   \n",
       "41542                         2                            0   \n",
       "41543                         1                            0   \n",
       "\n",
       "       Number of Stove with Oven/Gas Range  Number of Motorized Banca  \\\n",
       "41539                                    0                          0   \n",
       "41540                                    0                          0   \n",
       "41541                                    0                          0   \n",
       "41542                                    0                          0   \n",
       "41543                                    0                          0   \n",
       "\n",
       "       Number of Motorcycle/Tricycle  \n",
       "41539                              0  \n",
       "41540                              0  \n",
       "41541                              0  \n",
       "41542                              0  \n",
       "41543                              0  \n",
       "\n",
       "[5 rows x 60 columns]"
      ]
     },
     "execution_count": 5,
     "metadata": {},
     "output_type": "execute_result"
    }
   ],
   "source": [
    "# Tail\n",
    "household.tail()"
   ]
  },
  {
   "cell_type": "code",
   "execution_count": 6,
   "metadata": {
    "id": "jtz27rGLWp_C"
   },
   "outputs": [
    {
     "data": {
      "text/plain": [
       "(41544, 60)"
      ]
     },
     "execution_count": 6,
     "metadata": {},
     "output_type": "execute_result"
    }
   ],
   "source": [
    "# Shape\n",
    "household.shape"
   ]
  },
  {
   "cell_type": "code",
   "execution_count": 7,
   "metadata": {
    "id": "N0UjVkZRWp_E"
   },
   "outputs": [
    {
     "data": {
      "text/plain": [
       "Total Household Income                            int64\n",
       "Region                                           object\n",
       "Total Food Expenditure                            int64\n",
       "Main Source of Income                            object\n",
       "Agricultural Household indicator                  int64\n",
       "Bread and Cereals Expenditure                     int64\n",
       "Total Rice Expenditure                            int64\n",
       "Meat Expenditure                                  int64\n",
       "Total Fish and  marine products Expenditure       int64\n",
       "Fruit Expenditure                                 int64\n",
       "Vegetables Expenditure                            int64\n",
       "Restaurant and hotels Expenditure                 int64\n",
       "Alcoholic Beverages Expenditure                   int64\n",
       "Tobacco Expenditure                               int64\n",
       "Clothing, Footwear and Other Wear Expenditure     int64\n",
       "Housing and water Expenditure                     int64\n",
       "Imputed House Rental Value                        int64\n",
       "Medical Care Expenditure                          int64\n",
       "Transportation Expenditure                        int64\n",
       "Communication Expenditure                         int64\n",
       "Education Expenditure                             int64\n",
       "Miscellaneous Goods and Services Expenditure      int64\n",
       "Special Occasions Expenditure                     int64\n",
       "Crop Farming and Gardening expenses               int64\n",
       "Total Income from Entrepreneurial Acitivites      int64\n",
       "Household Head Sex                               object\n",
       "Household Head Age                                int64\n",
       "Household Head Marital Status                    object\n",
       "Household Head Highest Grade Completed           object\n",
       "Household Head Job or Business Indicator         object\n",
       "Household Head Occupation                        object\n",
       "Household Head Class of Worker                   object\n",
       "Type of Household                                object\n",
       "Total Number of Family members                    int64\n",
       "Members with age less than 5 year old             int64\n",
       "Members with age 5 - 17 years old                 int64\n",
       "Total number of family members employed           int64\n",
       "Type of Building/House                           object\n",
       "Type of Roof                                     object\n",
       "Type of Walls                                    object\n",
       "House Floor Area                                  int64\n",
       "House Age                                         int64\n",
       "Number of bedrooms                                int64\n",
       "Tenure Status                                    object\n",
       "Toilet Facilities                                object\n",
       "Electricity                                       int64\n",
       "Main Source of Water Supply                      object\n",
       "Number of Television                              int64\n",
       "Number of CD/VCD/DVD                              int64\n",
       "Number of Component/Stereo set                    int64\n",
       "Number of Refrigerator/Freezer                    int64\n",
       "Number of Washing Machine                         int64\n",
       "Number of Airconditioner                          int64\n",
       "Number of Car, Jeep, Van                          int64\n",
       "Number of Landline/wireless telephones            int64\n",
       "Number of Cellular phone                          int64\n",
       "Number of Personal Computer                       int64\n",
       "Number of Stove with Oven/Gas Range               int64\n",
       "Number of Motorized Banca                         int64\n",
       "Number of Motorcycle/Tricycle                     int64\n",
       "dtype: object"
      ]
     },
     "execution_count": 7,
     "metadata": {},
     "output_type": "execute_result"
    }
   ],
   "source": [
    "# Data Types\n",
    "household.dtypes"
   ]
  },
  {
   "cell_type": "code",
   "execution_count": 8,
   "metadata": {
    "tags": []
   },
   "outputs": [
    {
     "name": "stdout",
     "output_type": "stream",
     "text": [
      "<class 'pandas.core.frame.DataFrame'>\n",
      "RangeIndex: 41544 entries, 0 to 41543\n",
      "Data columns (total 60 columns):\n",
      " #   Column                                         Non-Null Count  Dtype \n",
      "---  ------                                         --------------  ----- \n",
      " 0   Total Household Income                         41544 non-null  int64 \n",
      " 1   Region                                         41544 non-null  object\n",
      " 2   Total Food Expenditure                         41544 non-null  int64 \n",
      " 3   Main Source of Income                          41544 non-null  object\n",
      " 4   Agricultural Household indicator               41544 non-null  int64 \n",
      " 5   Bread and Cereals Expenditure                  41544 non-null  int64 \n",
      " 6   Total Rice Expenditure                         41544 non-null  int64 \n",
      " 7   Meat Expenditure                               41544 non-null  int64 \n",
      " 8   Total Fish and  marine products Expenditure    41544 non-null  int64 \n",
      " 9   Fruit Expenditure                              41544 non-null  int64 \n",
      " 10  Vegetables Expenditure                         41544 non-null  int64 \n",
      " 11  Restaurant and hotels Expenditure              41544 non-null  int64 \n",
      " 12  Alcoholic Beverages Expenditure                41544 non-null  int64 \n",
      " 13  Tobacco Expenditure                            41544 non-null  int64 \n",
      " 14  Clothing, Footwear and Other Wear Expenditure  41544 non-null  int64 \n",
      " 15  Housing and water Expenditure                  41544 non-null  int64 \n",
      " 16  Imputed House Rental Value                     41544 non-null  int64 \n",
      " 17  Medical Care Expenditure                       41544 non-null  int64 \n",
      " 18  Transportation Expenditure                     41544 non-null  int64 \n",
      " 19  Communication Expenditure                      41544 non-null  int64 \n",
      " 20  Education Expenditure                          41544 non-null  int64 \n",
      " 21  Miscellaneous Goods and Services Expenditure   41544 non-null  int64 \n",
      " 22  Special Occasions Expenditure                  41544 non-null  int64 \n",
      " 23  Crop Farming and Gardening expenses            41544 non-null  int64 \n",
      " 24  Total Income from Entrepreneurial Acitivites   41544 non-null  int64 \n",
      " 25  Household Head Sex                             41544 non-null  object\n",
      " 26  Household Head Age                             41544 non-null  int64 \n",
      " 27  Household Head Marital Status                  41544 non-null  object\n",
      " 28  Household Head Highest Grade Completed         41544 non-null  object\n",
      " 29  Household Head Job or Business Indicator       41544 non-null  object\n",
      " 30  Household Head Occupation                      34008 non-null  object\n",
      " 31  Household Head Class of Worker                 34008 non-null  object\n",
      " 32  Type of Household                              41544 non-null  object\n",
      " 33  Total Number of Family members                 41544 non-null  int64 \n",
      " 34  Members with age less than 5 year old          41544 non-null  int64 \n",
      " 35  Members with age 5 - 17 years old              41544 non-null  int64 \n",
      " 36  Total number of family members employed        41544 non-null  int64 \n",
      " 37  Type of Building/House                         41544 non-null  object\n",
      " 38  Type of Roof                                   41544 non-null  object\n",
      " 39  Type of Walls                                  41544 non-null  object\n",
      " 40  House Floor Area                               41544 non-null  int64 \n",
      " 41  House Age                                      41544 non-null  int64 \n",
      " 42  Number of bedrooms                             41544 non-null  int64 \n",
      " 43  Tenure Status                                  41544 non-null  object\n",
      " 44  Toilet Facilities                              39964 non-null  object\n",
      " 45  Electricity                                    41544 non-null  int64 \n",
      " 46  Main Source of Water Supply                    41544 non-null  object\n",
      " 47  Number of Television                           41544 non-null  int64 \n",
      " 48  Number of CD/VCD/DVD                           41544 non-null  int64 \n",
      " 49  Number of Component/Stereo set                 41544 non-null  int64 \n",
      " 50  Number of Refrigerator/Freezer                 41544 non-null  int64 \n",
      " 51  Number of Washing Machine                      41544 non-null  int64 \n",
      " 52  Number of Airconditioner                       41544 non-null  int64 \n",
      " 53  Number of Car, Jeep, Van                       41544 non-null  int64 \n",
      " 54  Number of Landline/wireless telephones         41544 non-null  int64 \n",
      " 55  Number of Cellular phone                       41544 non-null  int64 \n",
      " 56  Number of Personal Computer                    41544 non-null  int64 \n",
      " 57  Number of Stove with Oven/Gas Range            41544 non-null  int64 \n",
      " 58  Number of Motorized Banca                      41544 non-null  int64 \n",
      " 59  Number of Motorcycle/Tricycle                  41544 non-null  int64 \n",
      "dtypes: int64(45), object(15)\n",
      "memory usage: 19.0+ MB\n"
     ]
    }
   ],
   "source": [
    "household.info()"
   ]
  },
  {
   "cell_type": "markdown",
   "metadata": {
    "id": "8C9HLIwaWp_G"
   },
   "source": [
    "#### Surveying the populations\n",
    "\n",
    "##### 1. Create a histogram of `Total Household Income`."
   ]
  },
  {
   "cell_type": "code",
   "execution_count": 29,
   "metadata": {
    "id": "ge1hHvg7Wp_H"
   },
   "outputs": [
    {
     "name": "stderr",
     "output_type": "stream",
     "text": [
      "C:\\Users\\OmarZazou\\anaconda3\\envs\\iod\\Lib\\site-packages\\seaborn\\_oldcore.py:1498: FutureWarning: is_categorical_dtype is deprecated and will be removed in a future version. Use isinstance(dtype, CategoricalDtype) instead\n",
      "  if pd.api.types.is_categorical_dtype(vector):\n",
      "C:\\Users\\OmarZazou\\anaconda3\\envs\\iod\\Lib\\site-packages\\seaborn\\_oldcore.py:1119: FutureWarning: use_inf_as_na option is deprecated and will be removed in a future version. Convert inf values to NaN before operating instead.\n",
      "  with pd.option_context('mode.use_inf_as_na', True):\n"
     ]
    },
    {
     "data": {
      "text/plain": [
       "<Axes: xlabel='Total Household Income', ylabel='Count'>"
      ]
     },
     "execution_count": 29,
     "metadata": {},
     "output_type": "execute_result"
    },
    {
     "data": {
      "image/png": "[encoded data removed]",
      "text/plain": [
       "<Figure size 640x480 with 1 Axes>"
      ]
     },
     "metadata": {},
     "output_type": "display_data"
    }
   ],
   "source": [
    "# ANSWER\n",
    "sns.histplot(household['Total Household Income'])"
   ]
  },
  {
   "cell_type": "markdown",
   "metadata": {
    "id": "Kvj7MZo7Wp_J"
   },
   "source": [
    "##### 2. How would you describe the shape of this population?"
   ]
  },
  {
   "cell_type": "markdown",
   "metadata": {
    "id": "pgFbYuCYWp_J"
   },
   "source": [
    "**ANSWER:**\n"
   ]
  },
  {
   "cell_type": "markdown",
   "metadata": {},
   "source": [
    "This is a right skewed distribution."
   ]
  },
  {
   "cell_type": "markdown",
   "metadata": {
    "id": "I4WSzg_QWp_K"
   },
   "source": [
    "##### 2. What is the mean income of this population?"
   ]
  },
  {
   "cell_type": "code",
   "execution_count": 31,
   "metadata": {
    "id": "AFRb6NTrWp_L"
   },
   "outputs": [
    {
     "data": {
      "text/plain": [
       "247555.58480165608"
      ]
     },
     "execution_count": 31,
     "metadata": {},
     "output_type": "execute_result"
    }
   ],
   "source": [
    "# ANSWER\n",
    "mean_income = household['Total Household Income'].mean()\n",
    "mean_income"
   ]
  },
  {
   "cell_type": "markdown",
   "metadata": {
    "id": "7t2837pfWp_N"
   },
   "source": [
    "##### 3. What sampling statistic/point estimate would you use to estimate the mean of this population if you were given a random sample from the population?"
   ]
  },
  {
   "cell_type": "markdown",
   "metadata": {
    "id": "H4-qmwfKWp_Q"
   },
   "source": [
    "**ANSWER:**\n"
   ]
  },
  {
   "cell_type": "markdown",
   "metadata": {},
   "source": [
    "The sample mean should be a good estimate of the population mean if the sample is big enough."
   ]
  },
  {
   "cell_type": "markdown",
   "metadata": {
    "id": "X1idVptIWp_R"
   },
   "source": [
    "#### Simulated sampling (sample means)"
   ]
  },
  {
   "cell_type": "markdown",
   "metadata": {
    "id": "SKkYeNcCWp_R"
   },
   "source": [
    "Now, we'd like to get an idea of what happens when we take multiple random samples of size 5.\n",
    "\n",
    "Take 10 sample (size=5) from the entire population. Calculate means for each sample. Now make a histogram of all the sample means.\n",
    "\n",
    "- Describe the shape of the histogram.\n",
    "- What is the center of the distribution of sample means?"
   ]
  },
  {
   "cell_type": "markdown",
   "metadata": {
    "id": "OyPK3qRcWp_S"
   },
   "source": [
    "##### 4. Simulation with `sample_size=5`"
   ]
  },
  {
   "cell_type": "markdown",
   "metadata": {
    "id": "vOk-K5ERWp_S"
   },
   "source": [
    "Take 10 samples, but with a sample size of 5."
   ]
  },
  {
   "cell_type": "code",
   "execution_count": 129,
   "metadata": {
    "id": "cy9hYhC-Wp_T"
   },
   "outputs": [],
   "source": [
    "# ANSWER\n",
    "def sample_mean_calcs(df, col, N, sample_size):\n",
    "    \n",
    "    #Create an empty sample mean list\n",
    "    sample_mean_list = []\n",
    "    \n",
    "    for _ in range (N):\n",
    "        sample = df.sample(n=sample_size)\n",
    "        mean = df[col].mean()\n",
    "        sample_mean_list.append(mean)\n",
    "    \n",
    "    return sample_mean_list"
   ]
  },
  {
   "cell_type": "markdown",
   "metadata": {
    "id": "B_R3uh2vWp_b"
   },
   "source": [
    "###### 4.A Make a histogram of all the sample means"
   ]
  },
  {
   "cell_type": "code",
   "execution_count": 130,
   "metadata": {
    "id": "fxfFQoymWp_c"
   },
   "outputs": [],
   "source": [
    "# ANSWER\n",
    "def create_hist(mean_income, sample_mean_list):\n",
    "    \n",
    "    sample_mean = np.mean(sample_mean_list, dtype= np.int64)\n",
    "    \n",
    "    ax = sns.distplot(mean_income)\n",
    "    \n",
    "    ax.axvline(mean_income, color='black', linestyle='solid', lw=1)\n",
    "    ax.axvline(sample_mean, color='red', linestyle='dashed', lw=1)\n",
    "\n",
    "    plt.xlabel('Mean of Samples')\n",
    "    plt.ylabel('Frequency')\n",
    "    plt.title('Mean of Samples Distribution')\n",
    "\n",
    "    plt.show()\n",
    "    "
   ]
  },
  {
   "cell_type": "code",
   "execution_count": 131,
   "metadata": {
    "tags": []
   },
   "outputs": [
    {
     "data": {
      "text/plain": [
       "[247555.58480165608,\n",
       " 247555.58480165608,\n",
       " 247555.58480165608,\n",
       " 247555.58480165608,\n",
       " 247555.58480165608,\n",
       " 247555.58480165608,\n",
       " 247555.58480165608,\n",
       " 247555.58480165608,\n",
       " 247555.58480165608,\n",
       " 247555.58480165608]"
      ]
     },
     "execution_count": 131,
     "metadata": {},
     "output_type": "execute_result"
    }
   ],
   "source": [
    "sample_mean_list = sample_mean_calcs(household, 'Total Household Income', 10, 5)\n",
    "sample_mean_list"
   ]
  },
  {
   "cell_type": "code",
   "execution_count": 132,
   "metadata": {
    "tags": []
   },
   "outputs": [
    {
     "name": "stderr",
     "output_type": "stream",
     "text": [
      "C:\\Users\\OmarZazou\\AppData\\Local\\Temp\\ipykernel_9384\\2737902214.py:6: UserWarning: \n",
      "\n",
      "`distplot` is a deprecated function and will be removed in seaborn v0.14.0.\n",
      "\n",
      "Please adapt your code to use either `displot` (a figure-level function with\n",
      "similar flexibility) or `histplot` (an axes-level function for histograms).\n",
      "\n",
      "For a guide to updating your code to use the new functions, please see\n",
      "https://gist.github.com/mwaskom/de44147ed2974457ad6372750bbe5751\n",
      "\n",
      "  ax = sns.distplot(mean_income)\n",
      "C:\\Users\\OmarZazou\\anaconda3\\envs\\iod\\Lib\\site-packages\\seaborn\\_oldcore.py:1498: FutureWarning: is_categorical_dtype is deprecated and will be removed in a future version. Use isinstance(dtype, CategoricalDtype) instead\n",
      "  if pd.api.types.is_categorical_dtype(vector):\n",
      "C:\\Users\\OmarZazou\\anaconda3\\envs\\iod\\Lib\\site-packages\\seaborn\\_oldcore.py:1119: FutureWarning: use_inf_as_na option is deprecated and will be removed in a future version. Convert inf values to NaN before operating instead.\n",
      "  with pd.option_context('mode.use_inf_as_na', True):\n",
      "C:\\Users\\OmarZazou\\anaconda3\\envs\\iod\\Lib\\site-packages\\seaborn\\distributions.py:2511: UserWarning: Dataset has 0 variance; skipping density estimate. Pass `warn_singular=False` to disable this warning.\n",
      "  kdeplot(**{axis: a}, ax=ax, color=kde_color, **kde_kws)\n"
     ]
    },
    {
     "data": {
      "image/png": "[encoded data removed]",
      "text/plain": [
       "<Figure size 640x480 with 1 Axes>"
      ]
     },
     "metadata": {},
     "output_type": "display_data"
    }
   ],
   "source": [
    "create_hist(mean_income, sample_mean_list)"
   ]
  },
  {
   "cell_type": "markdown",
   "metadata": {
    "id": "Wgz--ujKWp_e"
   },
   "source": [
    "###### 4.B Describe the shape of the histogram."
   ]
  },
  {
   "cell_type": "markdown",
   "metadata": {
    "id": "1bvqt98-Wp_f"
   },
   "source": [
    "**ANSWER:**\n"
   ]
  },
  {
   "cell_type": "markdown",
   "metadata": {
    "id": "rvx1E9OdWp_g"
   },
   "source": [
    "##### 7. Simulation with `sample_size=15`"
   ]
  },
  {
   "cell_type": "markdown",
   "metadata": {
    "id": "8iCYMHr7Wp_g"
   },
   "source": [
    "let's try taking another 1000 samples, but with a sample size of 15"
   ]
  },
  {
   "cell_type": "code",
   "execution_count": 133,
   "metadata": {
    "id": "OLe04oY5Wp_h"
   },
   "outputs": [
    {
     "name": "stdout",
     "output_type": "stream",
     "text": [
      "[247555.58480165608, 247555.58480165608, 247555.58480165608, 247555.58480165608, 247555.58480165608, 247555.58480165608, 247555.58480165608, 247555.58480165608, 247555.58480165608, 247555.58480165608, 247555.58480165608, 247555.58480165608, 247555.58480165608, 247555.58480165608, 247555.58480165608, 247555.58480165608, 247555.58480165608, 247555.58480165608, 247555.58480165608, 247555.58480165608, 247555.58480165608, 247555.58480165608, 247555.58480165608, 247555.58480165608, 247555.58480165608, 247555.58480165608, 247555.58480165608, 247555.58480165608, 247555.58480165608, 247555.58480165608, 247555.58480165608, 247555.58480165608, 247555.58480165608, 247555.58480165608, 247555.58480165608, 247555.58480165608, 247555.58480165608, 247555.58480165608, 247555.58480165608, 247555.58480165608, 247555.58480165608, 247555.58480165608, 247555.58480165608, 247555.58480165608, 247555.58480165608, 247555.58480165608, 247555.58480165608, 247555.58480165608, 247555.58480165608, 247555.58480165608, 247555.58480165608, 247555.58480165608, 247555.58480165608, 247555.58480165608, 247555.58480165608, 247555.58480165608, 247555.58480165608, 247555.58480165608, 247555.58480165608, 247555.58480165608, 247555.58480165608, 247555.58480165608, 247555.58480165608, 247555.58480165608, 247555.58480165608, 247555.58480165608, 247555.58480165608, 247555.58480165608, 247555.58480165608, 247555.58480165608, 247555.58480165608, 247555.58480165608, 247555.58480165608, 247555.58480165608, 247555.58480165608, 247555.58480165608, 247555.58480165608, 247555.58480165608, 247555.58480165608, 247555.58480165608, 247555.58480165608, 247555.58480165608, 247555.58480165608, 247555.58480165608, 247555.58480165608, 247555.58480165608, 247555.58480165608, 247555.58480165608, 247555.58480165608, 247555.58480165608, 247555.58480165608, 247555.58480165608, 247555.58480165608, 247555.58480165608, 247555.58480165608, 247555.58480165608, 247555.58480165608, 247555.58480165608, 247555.58480165608, 247555.58480165608, 247555.58480165608, 247555.58480165608, 247555.58480165608, 247555.58480165608, 247555.58480165608, 247555.58480165608, 247555.58480165608, 247555.58480165608, 247555.58480165608, 247555.58480165608, 247555.58480165608, 247555.58480165608, 247555.58480165608, 247555.58480165608, 247555.58480165608, 247555.58480165608, 247555.58480165608, 247555.58480165608, 247555.58480165608, 247555.58480165608, 247555.58480165608, 247555.58480165608, 247555.58480165608, 247555.58480165608, 247555.58480165608, 247555.58480165608, 247555.58480165608, 247555.58480165608, 247555.58480165608, 247555.58480165608, 247555.58480165608, 247555.58480165608, 247555.58480165608, 247555.58480165608, 247555.58480165608, 247555.58480165608, 247555.58480165608, 247555.58480165608, 247555.58480165608, 247555.58480165608, 247555.58480165608, 247555.58480165608, 247555.58480165608, 247555.58480165608, 247555.58480165608, 247555.58480165608, 247555.58480165608, 247555.58480165608, 247555.58480165608, 247555.58480165608, 247555.58480165608, 247555.58480165608, 247555.58480165608, 247555.58480165608, 247555.58480165608, 247555.58480165608, 247555.58480165608, 247555.58480165608, 247555.58480165608, 247555.58480165608, 247555.58480165608, 247555.58480165608, 247555.58480165608, 247555.58480165608, 247555.58480165608, 247555.58480165608, 247555.58480165608, 247555.58480165608, 247555.58480165608, 247555.58480165608, 247555.58480165608, 247555.58480165608, 247555.58480165608, 247555.58480165608, 247555.58480165608, 247555.58480165608, 247555.58480165608, 247555.58480165608, 247555.58480165608, 247555.58480165608, 247555.58480165608, 247555.58480165608, 247555.58480165608, 247555.58480165608, 247555.58480165608, 247555.58480165608, 247555.58480165608, 247555.58480165608, 247555.58480165608, 247555.58480165608, 247555.58480165608, 247555.58480165608, 247555.58480165608, 247555.58480165608, 247555.58480165608, 247555.58480165608, 247555.58480165608, 247555.58480165608, 247555.58480165608, 247555.58480165608, 247555.58480165608, 247555.58480165608, 247555.58480165608, 247555.58480165608, 247555.58480165608, 247555.58480165608, 247555.58480165608, 247555.58480165608, 247555.58480165608, 247555.58480165608, 247555.58480165608, 247555.58480165608, 247555.58480165608, 247555.58480165608, 247555.58480165608, 247555.58480165608, 247555.58480165608, 247555.58480165608, 247555.58480165608, 247555.58480165608, 247555.58480165608, 247555.58480165608, 247555.58480165608, 247555.58480165608, 247555.58480165608, 247555.58480165608, 247555.58480165608, 247555.58480165608, 247555.58480165608, 247555.58480165608, 247555.58480165608, 247555.58480165608, 247555.58480165608, 247555.58480165608, 247555.58480165608, 247555.58480165608, 247555.58480165608, 247555.58480165608, 247555.58480165608, 247555.58480165608, 247555.58480165608, 247555.58480165608, 247555.58480165608, 247555.58480165608, 247555.58480165608, 247555.58480165608, 247555.58480165608, 247555.58480165608, 247555.58480165608, 247555.58480165608, 247555.58480165608, 247555.58480165608, 247555.58480165608, 247555.58480165608, 247555.58480165608, 247555.58480165608, 247555.58480165608, 247555.58480165608, 247555.58480165608, 247555.58480165608, 247555.58480165608, 247555.58480165608, 247555.58480165608, 247555.58480165608, 247555.58480165608, 247555.58480165608, 247555.58480165608, 247555.58480165608, 247555.58480165608, 247555.58480165608, 247555.58480165608, 247555.58480165608, 247555.58480165608, 247555.58480165608, 247555.58480165608, 247555.58480165608, 247555.58480165608, 247555.58480165608, 247555.58480165608, 247555.58480165608, 247555.58480165608, 247555.58480165608, 247555.58480165608, 247555.58480165608, 247555.58480165608, 247555.58480165608, 247555.58480165608, 247555.58480165608, 247555.58480165608, 247555.58480165608, 247555.58480165608, 247555.58480165608, 247555.58480165608, 247555.58480165608, 247555.58480165608, 247555.58480165608, 247555.58480165608, 247555.58480165608, 247555.58480165608, 247555.58480165608, 247555.58480165608, 247555.58480165608, 247555.58480165608, 247555.58480165608, 247555.58480165608, 247555.58480165608, 247555.58480165608, 247555.58480165608, 247555.58480165608, 247555.58480165608, 247555.58480165608, 247555.58480165608, 247555.58480165608, 247555.58480165608, 247555.58480165608, 247555.58480165608, 247555.58480165608, 247555.58480165608, 247555.58480165608, 247555.58480165608, 247555.58480165608, 247555.58480165608, 247555.58480165608, 247555.58480165608, 247555.58480165608, 247555.58480165608, 247555.58480165608, 247555.58480165608, 247555.58480165608, 247555.58480165608, 247555.58480165608, 247555.58480165608, 247555.58480165608, 247555.58480165608, 247555.58480165608, 247555.58480165608, 247555.58480165608, 247555.58480165608, 247555.58480165608, 247555.58480165608, 247555.58480165608, 247555.58480165608, 247555.58480165608, 247555.58480165608, 247555.58480165608, 247555.58480165608, 247555.58480165608, 247555.58480165608, 247555.58480165608, 247555.58480165608, 247555.58480165608, 247555.58480165608, 247555.58480165608, 247555.58480165608, 247555.58480165608, 247555.58480165608, 247555.58480165608, 247555.58480165608, 247555.58480165608, 247555.58480165608, 247555.58480165608, 247555.58480165608, 247555.58480165608, 247555.58480165608, 247555.58480165608, 247555.58480165608, 247555.58480165608, 247555.58480165608, 247555.58480165608, 247555.58480165608, 247555.58480165608, 247555.58480165608, 247555.58480165608, 247555.58480165608, 247555.58480165608, 247555.58480165608, 247555.58480165608, 247555.58480165608, 247555.58480165608, 247555.58480165608, 247555.58480165608, 247555.58480165608, 247555.58480165608, 247555.58480165608, 247555.58480165608, 247555.58480165608, 247555.58480165608, 247555.58480165608, 247555.58480165608, 247555.58480165608, 247555.58480165608, 247555.58480165608, 247555.58480165608, 247555.58480165608, 247555.58480165608, 247555.58480165608, 247555.58480165608, 247555.58480165608, 247555.58480165608, 247555.58480165608, 247555.58480165608, 247555.58480165608, 247555.58480165608, 247555.58480165608, 247555.58480165608, 247555.58480165608, 247555.58480165608, 247555.58480165608, 247555.58480165608, 247555.58480165608, 247555.58480165608, 247555.58480165608, 247555.58480165608, 247555.58480165608, 247555.58480165608, 247555.58480165608, 247555.58480165608, 247555.58480165608, 247555.58480165608, 247555.58480165608, 247555.58480165608, 247555.58480165608, 247555.58480165608, 247555.58480165608, 247555.58480165608, 247555.58480165608, 247555.58480165608, 247555.58480165608, 247555.58480165608, 247555.58480165608, 247555.58480165608, 247555.58480165608, 247555.58480165608, 247555.58480165608, 247555.58480165608, 247555.58480165608, 247555.58480165608, 247555.58480165608, 247555.58480165608, 247555.58480165608, 247555.58480165608, 247555.58480165608, 247555.58480165608, 247555.58480165608, 247555.58480165608, 247555.58480165608, 247555.58480165608, 247555.58480165608, 247555.58480165608, 247555.58480165608, 247555.58480165608, 247555.58480165608, 247555.58480165608, 247555.58480165608, 247555.58480165608, 247555.58480165608, 247555.58480165608, 247555.58480165608, 247555.58480165608, 247555.58480165608, 247555.58480165608, 247555.58480165608, 247555.58480165608, 247555.58480165608, 247555.58480165608, 247555.58480165608, 247555.58480165608, 247555.58480165608, 247555.58480165608, 247555.58480165608, 247555.58480165608, 247555.58480165608, 247555.58480165608, 247555.58480165608, 247555.58480165608, 247555.58480165608, 247555.58480165608, 247555.58480165608, 247555.58480165608, 247555.58480165608, 247555.58480165608, 247555.58480165608, 247555.58480165608, 247555.58480165608, 247555.58480165608, 247555.58480165608, 247555.58480165608, 247555.58480165608, 247555.58480165608, 247555.58480165608, 247555.58480165608, 247555.58480165608, 247555.58480165608, 247555.58480165608, 247555.58480165608, 247555.58480165608, 247555.58480165608, 247555.58480165608, 247555.58480165608, 247555.58480165608, 247555.58480165608, 247555.58480165608, 247555.58480165608, 247555.58480165608, 247555.58480165608, 247555.58480165608, 247555.58480165608, 247555.58480165608, 247555.58480165608, 247555.58480165608, 247555.58480165608, 247555.58480165608, 247555.58480165608, 247555.58480165608, 247555.58480165608, 247555.58480165608, 247555.58480165608, 247555.58480165608, 247555.58480165608, 247555.58480165608, 247555.58480165608, 247555.58480165608, 247555.58480165608, 247555.58480165608, 247555.58480165608, 247555.58480165608, 247555.58480165608, 247555.58480165608, 247555.58480165608, 247555.58480165608, 247555.58480165608, 247555.58480165608, 247555.58480165608, 247555.58480165608, 247555.58480165608, 247555.58480165608, 247555.58480165608, 247555.58480165608, 247555.58480165608, 247555.58480165608, 247555.58480165608, 247555.58480165608, 247555.58480165608, 247555.58480165608, 247555.58480165608, 247555.58480165608, 247555.58480165608, 247555.58480165608, 247555.58480165608, 247555.58480165608, 247555.58480165608, 247555.58480165608, 247555.58480165608, 247555.58480165608, 247555.58480165608, 247555.58480165608, 247555.58480165608, 247555.58480165608, 247555.58480165608, 247555.58480165608, 247555.58480165608, 247555.58480165608, 247555.58480165608, 247555.58480165608, 247555.58480165608, 247555.58480165608, 247555.58480165608, 247555.58480165608, 247555.58480165608, 247555.58480165608, 247555.58480165608, 247555.58480165608, 247555.58480165608, 247555.58480165608, 247555.58480165608, 247555.58480165608, 247555.58480165608, 247555.58480165608, 247555.58480165608, 247555.58480165608, 247555.58480165608, 247555.58480165608, 247555.58480165608, 247555.58480165608, 247555.58480165608, 247555.58480165608, 247555.58480165608, 247555.58480165608, 247555.58480165608, 247555.58480165608, 247555.58480165608, 247555.58480165608, 247555.58480165608, 247555.58480165608, 247555.58480165608, 247555.58480165608, 247555.58480165608, 247555.58480165608, 247555.58480165608, 247555.58480165608, 247555.58480165608, 247555.58480165608, 247555.58480165608, 247555.58480165608, 247555.58480165608, 247555.58480165608, 247555.58480165608, 247555.58480165608, 247555.58480165608, 247555.58480165608, 247555.58480165608, 247555.58480165608, 247555.58480165608, 247555.58480165608, 247555.58480165608, 247555.58480165608, 247555.58480165608, 247555.58480165608, 247555.58480165608, 247555.58480165608, 247555.58480165608, 247555.58480165608, 247555.58480165608, 247555.58480165608, 247555.58480165608, 247555.58480165608, 247555.58480165608, 247555.58480165608, 247555.58480165608, 247555.58480165608, 247555.58480165608, 247555.58480165608, 247555.58480165608, 247555.58480165608, 247555.58480165608, 247555.58480165608, 247555.58480165608, 247555.58480165608, 247555.58480165608, 247555.58480165608, 247555.58480165608, 247555.58480165608, 247555.58480165608, 247555.58480165608, 247555.58480165608, 247555.58480165608, 247555.58480165608, 247555.58480165608, 247555.58480165608, 247555.58480165608, 247555.58480165608, 247555.58480165608, 247555.58480165608, 247555.58480165608, 247555.58480165608, 247555.58480165608, 247555.58480165608, 247555.58480165608, 247555.58480165608, 247555.58480165608, 247555.58480165608, 247555.58480165608, 247555.58480165608, 247555.58480165608, 247555.58480165608, 247555.58480165608, 247555.58480165608, 247555.58480165608, 247555.58480165608, 247555.58480165608, 247555.58480165608, 247555.58480165608, 247555.58480165608, 247555.58480165608, 247555.58480165608, 247555.58480165608, 247555.58480165608, 247555.58480165608, 247555.58480165608, 247555.58480165608, 247555.58480165608, 247555.58480165608, 247555.58480165608, 247555.58480165608, 247555.58480165608, 247555.58480165608, 247555.58480165608, 247555.58480165608, 247555.58480165608, 247555.58480165608, 247555.58480165608, 247555.58480165608, 247555.58480165608, 247555.58480165608, 247555.58480165608, 247555.58480165608, 247555.58480165608, 247555.58480165608, 247555.58480165608, 247555.58480165608, 247555.58480165608, 247555.58480165608, 247555.58480165608, 247555.58480165608, 247555.58480165608, 247555.58480165608, 247555.58480165608, 247555.58480165608, 247555.58480165608, 247555.58480165608, 247555.58480165608, 247555.58480165608, 247555.58480165608, 247555.58480165608, 247555.58480165608, 247555.58480165608, 247555.58480165608, 247555.58480165608, 247555.58480165608, 247555.58480165608, 247555.58480165608, 247555.58480165608, 247555.58480165608, 247555.58480165608, 247555.58480165608, 247555.58480165608, 247555.58480165608, 247555.58480165608, 247555.58480165608, 247555.58480165608, 247555.58480165608, 247555.58480165608, 247555.58480165608, 247555.58480165608, 247555.58480165608, 247555.58480165608, 247555.58480165608, 247555.58480165608, 247555.58480165608, 247555.58480165608, 247555.58480165608, 247555.58480165608, 247555.58480165608, 247555.58480165608, 247555.58480165608, 247555.58480165608, 247555.58480165608, 247555.58480165608, 247555.58480165608, 247555.58480165608, 247555.58480165608, 247555.58480165608, 247555.58480165608, 247555.58480165608, 247555.58480165608, 247555.58480165608, 247555.58480165608, 247555.58480165608, 247555.58480165608, 247555.58480165608, 247555.58480165608, 247555.58480165608, 247555.58480165608, 247555.58480165608, 247555.58480165608, 247555.58480165608, 247555.58480165608, 247555.58480165608, 247555.58480165608, 247555.58480165608, 247555.58480165608, 247555.58480165608, 247555.58480165608, 247555.58480165608, 247555.58480165608, 247555.58480165608, 247555.58480165608, 247555.58480165608, 247555.58480165608, 247555.58480165608, 247555.58480165608, 247555.58480165608, 247555.58480165608, 247555.58480165608, 247555.58480165608, 247555.58480165608, 247555.58480165608, 247555.58480165608, 247555.58480165608, 247555.58480165608, 247555.58480165608, 247555.58480165608, 247555.58480165608, 247555.58480165608, 247555.58480165608, 247555.58480165608, 247555.58480165608, 247555.58480165608, 247555.58480165608, 247555.58480165608, 247555.58480165608, 247555.58480165608, 247555.58480165608, 247555.58480165608, 247555.58480165608, 247555.58480165608, 247555.58480165608, 247555.58480165608, 247555.58480165608, 247555.58480165608, 247555.58480165608, 247555.58480165608, 247555.58480165608, 247555.58480165608, 247555.58480165608, 247555.58480165608, 247555.58480165608, 247555.58480165608, 247555.58480165608, 247555.58480165608, 247555.58480165608, 247555.58480165608, 247555.58480165608, 247555.58480165608, 247555.58480165608, 247555.58480165608, 247555.58480165608, 247555.58480165608, 247555.58480165608, 247555.58480165608, 247555.58480165608, 247555.58480165608, 247555.58480165608, 247555.58480165608, 247555.58480165608, 247555.58480165608, 247555.58480165608, 247555.58480165608, 247555.58480165608, 247555.58480165608, 247555.58480165608, 247555.58480165608, 247555.58480165608, 247555.58480165608, 247555.58480165608, 247555.58480165608, 247555.58480165608, 247555.58480165608, 247555.58480165608, 247555.58480165608, 247555.58480165608, 247555.58480165608, 247555.58480165608, 247555.58480165608, 247555.58480165608, 247555.58480165608, 247555.58480165608, 247555.58480165608, 247555.58480165608, 247555.58480165608, 247555.58480165608, 247555.58480165608, 247555.58480165608, 247555.58480165608, 247555.58480165608, 247555.58480165608, 247555.58480165608, 247555.58480165608, 247555.58480165608, 247555.58480165608, 247555.58480165608, 247555.58480165608, 247555.58480165608, 247555.58480165608, 247555.58480165608, 247555.58480165608, 247555.58480165608, 247555.58480165608, 247555.58480165608, 247555.58480165608, 247555.58480165608, 247555.58480165608, 247555.58480165608, 247555.58480165608, 247555.58480165608, 247555.58480165608, 247555.58480165608, 247555.58480165608, 247555.58480165608, 247555.58480165608, 247555.58480165608, 247555.58480165608, 247555.58480165608, 247555.58480165608, 247555.58480165608, 247555.58480165608, 247555.58480165608, 247555.58480165608, 247555.58480165608, 247555.58480165608, 247555.58480165608, 247555.58480165608, 247555.58480165608, 247555.58480165608, 247555.58480165608, 247555.58480165608, 247555.58480165608, 247555.58480165608, 247555.58480165608, 247555.58480165608, 247555.58480165608, 247555.58480165608, 247555.58480165608, 247555.58480165608, 247555.58480165608, 247555.58480165608, 247555.58480165608, 247555.58480165608, 247555.58480165608, 247555.58480165608, 247555.58480165608, 247555.58480165608, 247555.58480165608, 247555.58480165608, 247555.58480165608, 247555.58480165608, 247555.58480165608, 247555.58480165608, 247555.58480165608, 247555.58480165608, 247555.58480165608, 247555.58480165608, 247555.58480165608, 247555.58480165608, 247555.58480165608, 247555.58480165608, 247555.58480165608, 247555.58480165608, 247555.58480165608, 247555.58480165608, 247555.58480165608, 247555.58480165608, 247555.58480165608, 247555.58480165608, 247555.58480165608, 247555.58480165608, 247555.58480165608, 247555.58480165608, 247555.58480165608, 247555.58480165608, 247555.58480165608, 247555.58480165608, 247555.58480165608, 247555.58480165608, 247555.58480165608, 247555.58480165608, 247555.58480165608, 247555.58480165608, 247555.58480165608, 247555.58480165608, 247555.58480165608, 247555.58480165608, 247555.58480165608, 247555.58480165608, 247555.58480165608, 247555.58480165608, 247555.58480165608, 247555.58480165608, 247555.58480165608, 247555.58480165608, 247555.58480165608, 247555.58480165608, 247555.58480165608, 247555.58480165608, 247555.58480165608, 247555.58480165608, 247555.58480165608, 247555.58480165608, 247555.58480165608, 247555.58480165608, 247555.58480165608, 247555.58480165608, 247555.58480165608, 247555.58480165608, 247555.58480165608, 247555.58480165608, 247555.58480165608, 247555.58480165608, 247555.58480165608, 247555.58480165608, 247555.58480165608, 247555.58480165608, 247555.58480165608, 247555.58480165608, 247555.58480165608, 247555.58480165608, 247555.58480165608, 247555.58480165608, 247555.58480165608, 247555.58480165608]\n"
     ]
    },
    {
     "name": "stderr",
     "output_type": "stream",
     "text": [
      "C:\\Users\\OmarZazou\\AppData\\Local\\Temp\\ipykernel_9384\\2737902214.py:6: UserWarning: \n",
      "\n",
      "`distplot` is a deprecated function and will be removed in seaborn v0.14.0.\n",
      "\n",
      "Please adapt your code to use either `displot` (a figure-level function with\n",
      "similar flexibility) or `histplot` (an axes-level function for histograms).\n",
      "\n",
      "For a guide to updating your code to use the new functions, please see\n",
      "https://gist.github.com/mwaskom/de44147ed2974457ad6372750bbe5751\n",
      "\n",
      "  ax = sns.distplot(mean_income)\n",
      "C:\\Users\\OmarZazou\\anaconda3\\envs\\iod\\Lib\\site-packages\\seaborn\\_oldcore.py:1498: FutureWarning: is_categorical_dtype is deprecated and will be removed in a future version. Use isinstance(dtype, CategoricalDtype) instead\n",
      "  if pd.api.types.is_categorical_dtype(vector):\n",
      "C:\\Users\\OmarZazou\\anaconda3\\envs\\iod\\Lib\\site-packages\\seaborn\\_oldcore.py:1119: FutureWarning: use_inf_as_na option is deprecated and will be removed in a future version. Convert inf values to NaN before operating instead.\n",
      "  with pd.option_context('mode.use_inf_as_na', True):\n",
      "C:\\Users\\OmarZazou\\anaconda3\\envs\\iod\\Lib\\site-packages\\seaborn\\distributions.py:2511: UserWarning: Dataset has 0 variance; skipping density estimate. Pass `warn_singular=False` to disable this warning.\n",
      "  kdeplot(**{axis: a}, ax=ax, color=kde_color, **kde_kws)\n"
     ]
    },
    {
     "data": {
      "image/png": "[encoded data removed]",
      "text/plain": [
       "<Figure size 640x480 with 1 Axes>"
      ]
     },
     "metadata": {},
     "output_type": "display_data"
    }
   ],
   "source": [
    "# ANSWER\n",
    "sample_mean_list = sample_mean_calcs(household, 'Total Household Income', 1000, 15)\n",
    "print(sample_mean_list)\n",
    "create_hist(mean_income, sample_mean_list)"
   ]
  },
  {
   "cell_type": "markdown",
   "metadata": {
    "id": "mEsn6pYpWp_k"
   },
   "source": [
    "##### 8. Simulation with `sample_size=50`"
   ]
  },
  {
   "cell_type": "markdown",
   "metadata": {
    "id": "Hf1nTCxzWp_l"
   },
   "source": [
    "Let's try taking another 1000 samples, but with a sample size of 50"
   ]
  },
  {
   "cell_type": "code",
   "execution_count": 134,
   "metadata": {
    "id": "TVmVzgJwWp_l"
   },
   "outputs": [
    {
     "name": "stdout",
     "output_type": "stream",
     "text": [
      "[247555.58480165608, 247555.58480165608, 247555.58480165608, 247555.58480165608, 247555.58480165608, 247555.58480165608, 247555.58480165608, 247555.58480165608, 247555.58480165608, 247555.58480165608, 247555.58480165608, 247555.58480165608, 247555.58480165608, 247555.58480165608, 247555.58480165608, 247555.58480165608, 247555.58480165608, 247555.58480165608, 247555.58480165608, 247555.58480165608, 247555.58480165608, 247555.58480165608, 247555.58480165608, 247555.58480165608, 247555.58480165608, 247555.58480165608, 247555.58480165608, 247555.58480165608, 247555.58480165608, 247555.58480165608, 247555.58480165608, 247555.58480165608, 247555.58480165608, 247555.58480165608, 247555.58480165608, 247555.58480165608, 247555.58480165608, 247555.58480165608, 247555.58480165608, 247555.58480165608, 247555.58480165608, 247555.58480165608, 247555.58480165608, 247555.58480165608, 247555.58480165608, 247555.58480165608, 247555.58480165608, 247555.58480165608, 247555.58480165608, 247555.58480165608, 247555.58480165608, 247555.58480165608, 247555.58480165608, 247555.58480165608, 247555.58480165608, 247555.58480165608, 247555.58480165608, 247555.58480165608, 247555.58480165608, 247555.58480165608, 247555.58480165608, 247555.58480165608, 247555.58480165608, 247555.58480165608, 247555.58480165608, 247555.58480165608, 247555.58480165608, 247555.58480165608, 247555.58480165608, 247555.58480165608, 247555.58480165608, 247555.58480165608, 247555.58480165608, 247555.58480165608, 247555.58480165608, 247555.58480165608, 247555.58480165608, 247555.58480165608, 247555.58480165608, 247555.58480165608, 247555.58480165608, 247555.58480165608, 247555.58480165608, 247555.58480165608, 247555.58480165608, 247555.58480165608, 247555.58480165608, 247555.58480165608, 247555.58480165608, 247555.58480165608, 247555.58480165608, 247555.58480165608, 247555.58480165608, 247555.58480165608, 247555.58480165608, 247555.58480165608, 247555.58480165608, 247555.58480165608, 247555.58480165608, 247555.58480165608, 247555.58480165608, 247555.58480165608, 247555.58480165608, 247555.58480165608, 247555.58480165608, 247555.58480165608, 247555.58480165608, 247555.58480165608, 247555.58480165608, 247555.58480165608, 247555.58480165608, 247555.58480165608, 247555.58480165608, 247555.58480165608, 247555.58480165608, 247555.58480165608, 247555.58480165608, 247555.58480165608, 247555.58480165608, 247555.58480165608, 247555.58480165608, 247555.58480165608, 247555.58480165608, 247555.58480165608, 247555.58480165608, 247555.58480165608, 247555.58480165608, 247555.58480165608, 247555.58480165608, 247555.58480165608, 247555.58480165608, 247555.58480165608, 247555.58480165608, 247555.58480165608, 247555.58480165608, 247555.58480165608, 247555.58480165608, 247555.58480165608, 247555.58480165608, 247555.58480165608, 247555.58480165608, 247555.58480165608, 247555.58480165608, 247555.58480165608, 247555.58480165608, 247555.58480165608, 247555.58480165608, 247555.58480165608, 247555.58480165608, 247555.58480165608, 247555.58480165608, 247555.58480165608, 247555.58480165608, 247555.58480165608, 247555.58480165608, 247555.58480165608, 247555.58480165608, 247555.58480165608, 247555.58480165608, 247555.58480165608, 247555.58480165608, 247555.58480165608, 247555.58480165608, 247555.58480165608, 247555.58480165608, 247555.58480165608, 247555.58480165608, 247555.58480165608, 247555.58480165608, 247555.58480165608, 247555.58480165608, 247555.58480165608, 247555.58480165608, 247555.58480165608, 247555.58480165608, 247555.58480165608, 247555.58480165608, 247555.58480165608, 247555.58480165608, 247555.58480165608, 247555.58480165608, 247555.58480165608, 247555.58480165608, 247555.58480165608, 247555.58480165608, 247555.58480165608, 247555.58480165608, 247555.58480165608, 247555.58480165608, 247555.58480165608, 247555.58480165608, 247555.58480165608, 247555.58480165608, 247555.58480165608, 247555.58480165608, 247555.58480165608, 247555.58480165608, 247555.58480165608, 247555.58480165608, 247555.58480165608, 247555.58480165608, 247555.58480165608, 247555.58480165608, 247555.58480165608, 247555.58480165608, 247555.58480165608, 247555.58480165608, 247555.58480165608, 247555.58480165608, 247555.58480165608, 247555.58480165608, 247555.58480165608, 247555.58480165608, 247555.58480165608, 247555.58480165608, 247555.58480165608, 247555.58480165608, 247555.58480165608, 247555.58480165608, 247555.58480165608, 247555.58480165608, 247555.58480165608, 247555.58480165608, 247555.58480165608, 247555.58480165608, 247555.58480165608, 247555.58480165608, 247555.58480165608, 247555.58480165608, 247555.58480165608, 247555.58480165608, 247555.58480165608, 247555.58480165608, 247555.58480165608, 247555.58480165608, 247555.58480165608, 247555.58480165608, 247555.58480165608, 247555.58480165608, 247555.58480165608, 247555.58480165608, 247555.58480165608, 247555.58480165608, 247555.58480165608, 247555.58480165608, 247555.58480165608, 247555.58480165608, 247555.58480165608, 247555.58480165608, 247555.58480165608, 247555.58480165608, 247555.58480165608, 247555.58480165608, 247555.58480165608, 247555.58480165608, 247555.58480165608, 247555.58480165608, 247555.58480165608, 247555.58480165608, 247555.58480165608, 247555.58480165608, 247555.58480165608, 247555.58480165608, 247555.58480165608, 247555.58480165608, 247555.58480165608, 247555.58480165608, 247555.58480165608, 247555.58480165608, 247555.58480165608, 247555.58480165608, 247555.58480165608, 247555.58480165608, 247555.58480165608, 247555.58480165608, 247555.58480165608, 247555.58480165608, 247555.58480165608, 247555.58480165608, 247555.58480165608, 247555.58480165608, 247555.58480165608, 247555.58480165608, 247555.58480165608, 247555.58480165608, 247555.58480165608, 247555.58480165608, 247555.58480165608, 247555.58480165608, 247555.58480165608, 247555.58480165608, 247555.58480165608, 247555.58480165608, 247555.58480165608, 247555.58480165608, 247555.58480165608, 247555.58480165608, 247555.58480165608, 247555.58480165608, 247555.58480165608, 247555.58480165608, 247555.58480165608, 247555.58480165608, 247555.58480165608, 247555.58480165608, 247555.58480165608, 247555.58480165608, 247555.58480165608, 247555.58480165608, 247555.58480165608, 247555.58480165608, 247555.58480165608, 247555.58480165608, 247555.58480165608, 247555.58480165608, 247555.58480165608, 247555.58480165608, 247555.58480165608, 247555.58480165608, 247555.58480165608, 247555.58480165608, 247555.58480165608, 247555.58480165608, 247555.58480165608, 247555.58480165608, 247555.58480165608, 247555.58480165608, 247555.58480165608, 247555.58480165608, 247555.58480165608, 247555.58480165608, 247555.58480165608, 247555.58480165608, 247555.58480165608, 247555.58480165608, 247555.58480165608, 247555.58480165608, 247555.58480165608, 247555.58480165608, 247555.58480165608, 247555.58480165608, 247555.58480165608, 247555.58480165608, 247555.58480165608, 247555.58480165608, 247555.58480165608, 247555.58480165608, 247555.58480165608, 247555.58480165608, 247555.58480165608, 247555.58480165608, 247555.58480165608, 247555.58480165608, 247555.58480165608, 247555.58480165608, 247555.58480165608, 247555.58480165608, 247555.58480165608, 247555.58480165608, 247555.58480165608, 247555.58480165608, 247555.58480165608, 247555.58480165608, 247555.58480165608, 247555.58480165608, 247555.58480165608, 247555.58480165608, 247555.58480165608, 247555.58480165608, 247555.58480165608, 247555.58480165608, 247555.58480165608, 247555.58480165608, 247555.58480165608, 247555.58480165608, 247555.58480165608, 247555.58480165608, 247555.58480165608, 247555.58480165608, 247555.58480165608, 247555.58480165608, 247555.58480165608, 247555.58480165608, 247555.58480165608, 247555.58480165608, 247555.58480165608, 247555.58480165608, 247555.58480165608, 247555.58480165608, 247555.58480165608, 247555.58480165608, 247555.58480165608, 247555.58480165608, 247555.58480165608, 247555.58480165608, 247555.58480165608, 247555.58480165608, 247555.58480165608, 247555.58480165608, 247555.58480165608, 247555.58480165608, 247555.58480165608, 247555.58480165608, 247555.58480165608, 247555.58480165608, 247555.58480165608, 247555.58480165608, 247555.58480165608, 247555.58480165608, 247555.58480165608, 247555.58480165608, 247555.58480165608, 247555.58480165608, 247555.58480165608, 247555.58480165608, 247555.58480165608, 247555.58480165608, 247555.58480165608, 247555.58480165608, 247555.58480165608, 247555.58480165608, 247555.58480165608, 247555.58480165608, 247555.58480165608, 247555.58480165608, 247555.58480165608, 247555.58480165608, 247555.58480165608, 247555.58480165608, 247555.58480165608, 247555.58480165608, 247555.58480165608, 247555.58480165608, 247555.58480165608, 247555.58480165608, 247555.58480165608, 247555.58480165608, 247555.58480165608, 247555.58480165608, 247555.58480165608, 247555.58480165608, 247555.58480165608, 247555.58480165608, 247555.58480165608, 247555.58480165608, 247555.58480165608, 247555.58480165608, 247555.58480165608, 247555.58480165608, 247555.58480165608, 247555.58480165608, 247555.58480165608, 247555.58480165608, 247555.58480165608, 247555.58480165608, 247555.58480165608, 247555.58480165608, 247555.58480165608, 247555.58480165608, 247555.58480165608, 247555.58480165608, 247555.58480165608, 247555.58480165608, 247555.58480165608, 247555.58480165608, 247555.58480165608, 247555.58480165608, 247555.58480165608, 247555.58480165608, 247555.58480165608, 247555.58480165608, 247555.58480165608, 247555.58480165608, 247555.58480165608, 247555.58480165608, 247555.58480165608, 247555.58480165608, 247555.58480165608, 247555.58480165608, 247555.58480165608, 247555.58480165608, 247555.58480165608, 247555.58480165608, 247555.58480165608, 247555.58480165608, 247555.58480165608, 247555.58480165608, 247555.58480165608, 247555.58480165608, 247555.58480165608, 247555.58480165608, 247555.58480165608, 247555.58480165608, 247555.58480165608, 247555.58480165608, 247555.58480165608, 247555.58480165608, 247555.58480165608, 247555.58480165608, 247555.58480165608, 247555.58480165608, 247555.58480165608, 247555.58480165608, 247555.58480165608, 247555.58480165608, 247555.58480165608, 247555.58480165608, 247555.58480165608, 247555.58480165608, 247555.58480165608, 247555.58480165608, 247555.58480165608, 247555.58480165608, 247555.58480165608, 247555.58480165608, 247555.58480165608, 247555.58480165608, 247555.58480165608, 247555.58480165608, 247555.58480165608, 247555.58480165608, 247555.58480165608, 247555.58480165608, 247555.58480165608, 247555.58480165608, 247555.58480165608, 247555.58480165608, 247555.58480165608, 247555.58480165608, 247555.58480165608, 247555.58480165608, 247555.58480165608, 247555.58480165608, 247555.58480165608, 247555.58480165608, 247555.58480165608, 247555.58480165608, 247555.58480165608, 247555.58480165608, 247555.58480165608, 247555.58480165608, 247555.58480165608, 247555.58480165608, 247555.58480165608, 247555.58480165608, 247555.58480165608, 247555.58480165608, 247555.58480165608, 247555.58480165608, 247555.58480165608, 247555.58480165608, 247555.58480165608, 247555.58480165608, 247555.58480165608, 247555.58480165608, 247555.58480165608, 247555.58480165608, 247555.58480165608, 247555.58480165608, 247555.58480165608, 247555.58480165608, 247555.58480165608, 247555.58480165608, 247555.58480165608, 247555.58480165608, 247555.58480165608, 247555.58480165608, 247555.58480165608, 247555.58480165608, 247555.58480165608, 247555.58480165608, 247555.58480165608, 247555.58480165608, 247555.58480165608, 247555.58480165608, 247555.58480165608, 247555.58480165608, 247555.58480165608, 247555.58480165608, 247555.58480165608, 247555.58480165608, 247555.58480165608, 247555.58480165608, 247555.58480165608, 247555.58480165608, 247555.58480165608, 247555.58480165608, 247555.58480165608, 247555.58480165608, 247555.58480165608, 247555.58480165608, 247555.58480165608, 247555.58480165608, 247555.58480165608, 247555.58480165608, 247555.58480165608, 247555.58480165608, 247555.58480165608, 247555.58480165608, 247555.58480165608, 247555.58480165608, 247555.58480165608, 247555.58480165608, 247555.58480165608, 247555.58480165608, 247555.58480165608, 247555.58480165608, 247555.58480165608, 247555.58480165608, 247555.58480165608, 247555.58480165608, 247555.58480165608, 247555.58480165608, 247555.58480165608, 247555.58480165608, 247555.58480165608, 247555.58480165608, 247555.58480165608, 247555.58480165608, 247555.58480165608, 247555.58480165608, 247555.58480165608, 247555.58480165608, 247555.58480165608, 247555.58480165608, 247555.58480165608, 247555.58480165608, 247555.58480165608, 247555.58480165608, 247555.58480165608, 247555.58480165608, 247555.58480165608, 247555.58480165608, 247555.58480165608, 247555.58480165608, 247555.58480165608, 247555.58480165608, 247555.58480165608, 247555.58480165608, 247555.58480165608, 247555.58480165608, 247555.58480165608, 247555.58480165608, 247555.58480165608, 247555.58480165608, 247555.58480165608, 247555.58480165608, 247555.58480165608, 247555.58480165608, 247555.58480165608, 247555.58480165608, 247555.58480165608, 247555.58480165608, 247555.58480165608, 247555.58480165608, 247555.58480165608, 247555.58480165608, 247555.58480165608, 247555.58480165608, 247555.58480165608, 247555.58480165608, 247555.58480165608, 247555.58480165608, 247555.58480165608, 247555.58480165608, 247555.58480165608, 247555.58480165608, 247555.58480165608, 247555.58480165608, 247555.58480165608, 247555.58480165608, 247555.58480165608, 247555.58480165608, 247555.58480165608, 247555.58480165608, 247555.58480165608, 247555.58480165608, 247555.58480165608, 247555.58480165608, 247555.58480165608, 247555.58480165608, 247555.58480165608, 247555.58480165608, 247555.58480165608, 247555.58480165608, 247555.58480165608, 247555.58480165608, 247555.58480165608, 247555.58480165608, 247555.58480165608, 247555.58480165608, 247555.58480165608, 247555.58480165608, 247555.58480165608, 247555.58480165608, 247555.58480165608, 247555.58480165608, 247555.58480165608, 247555.58480165608, 247555.58480165608, 247555.58480165608, 247555.58480165608, 247555.58480165608, 247555.58480165608, 247555.58480165608, 247555.58480165608, 247555.58480165608, 247555.58480165608, 247555.58480165608, 247555.58480165608, 247555.58480165608, 247555.58480165608, 247555.58480165608, 247555.58480165608, 247555.58480165608, 247555.58480165608, 247555.58480165608, 247555.58480165608, 247555.58480165608, 247555.58480165608, 247555.58480165608, 247555.58480165608, 247555.58480165608, 247555.58480165608, 247555.58480165608, 247555.58480165608, 247555.58480165608, 247555.58480165608, 247555.58480165608, 247555.58480165608, 247555.58480165608, 247555.58480165608, 247555.58480165608, 247555.58480165608, 247555.58480165608, 247555.58480165608, 247555.58480165608, 247555.58480165608, 247555.58480165608, 247555.58480165608, 247555.58480165608, 247555.58480165608, 247555.58480165608, 247555.58480165608, 247555.58480165608, 247555.58480165608, 247555.58480165608, 247555.58480165608, 247555.58480165608, 247555.58480165608, 247555.58480165608, 247555.58480165608, 247555.58480165608, 247555.58480165608, 247555.58480165608, 247555.58480165608, 247555.58480165608, 247555.58480165608, 247555.58480165608, 247555.58480165608, 247555.58480165608, 247555.58480165608, 247555.58480165608, 247555.58480165608, 247555.58480165608, 247555.58480165608, 247555.58480165608, 247555.58480165608, 247555.58480165608, 247555.58480165608, 247555.58480165608, 247555.58480165608, 247555.58480165608, 247555.58480165608, 247555.58480165608, 247555.58480165608, 247555.58480165608, 247555.58480165608, 247555.58480165608, 247555.58480165608, 247555.58480165608, 247555.58480165608, 247555.58480165608, 247555.58480165608, 247555.58480165608, 247555.58480165608, 247555.58480165608, 247555.58480165608, 247555.58480165608, 247555.58480165608, 247555.58480165608, 247555.58480165608, 247555.58480165608, 247555.58480165608, 247555.58480165608, 247555.58480165608, 247555.58480165608, 247555.58480165608, 247555.58480165608, 247555.58480165608, 247555.58480165608, 247555.58480165608, 247555.58480165608, 247555.58480165608, 247555.58480165608, 247555.58480165608, 247555.58480165608, 247555.58480165608, 247555.58480165608, 247555.58480165608, 247555.58480165608, 247555.58480165608, 247555.58480165608, 247555.58480165608, 247555.58480165608, 247555.58480165608, 247555.58480165608, 247555.58480165608, 247555.58480165608, 247555.58480165608, 247555.58480165608, 247555.58480165608, 247555.58480165608, 247555.58480165608, 247555.58480165608, 247555.58480165608, 247555.58480165608, 247555.58480165608, 247555.58480165608, 247555.58480165608, 247555.58480165608, 247555.58480165608, 247555.58480165608, 247555.58480165608, 247555.58480165608, 247555.58480165608, 247555.58480165608, 247555.58480165608, 247555.58480165608, 247555.58480165608, 247555.58480165608, 247555.58480165608, 247555.58480165608, 247555.58480165608, 247555.58480165608, 247555.58480165608, 247555.58480165608, 247555.58480165608, 247555.58480165608, 247555.58480165608, 247555.58480165608, 247555.58480165608, 247555.58480165608, 247555.58480165608, 247555.58480165608, 247555.58480165608, 247555.58480165608, 247555.58480165608, 247555.58480165608, 247555.58480165608, 247555.58480165608, 247555.58480165608, 247555.58480165608, 247555.58480165608, 247555.58480165608, 247555.58480165608, 247555.58480165608, 247555.58480165608, 247555.58480165608, 247555.58480165608, 247555.58480165608, 247555.58480165608, 247555.58480165608, 247555.58480165608, 247555.58480165608, 247555.58480165608, 247555.58480165608, 247555.58480165608, 247555.58480165608, 247555.58480165608, 247555.58480165608, 247555.58480165608, 247555.58480165608, 247555.58480165608, 247555.58480165608, 247555.58480165608, 247555.58480165608, 247555.58480165608, 247555.58480165608, 247555.58480165608, 247555.58480165608, 247555.58480165608, 247555.58480165608, 247555.58480165608, 247555.58480165608, 247555.58480165608, 247555.58480165608, 247555.58480165608, 247555.58480165608, 247555.58480165608, 247555.58480165608, 247555.58480165608, 247555.58480165608, 247555.58480165608, 247555.58480165608, 247555.58480165608, 247555.58480165608, 247555.58480165608, 247555.58480165608, 247555.58480165608, 247555.58480165608, 247555.58480165608, 247555.58480165608, 247555.58480165608, 247555.58480165608, 247555.58480165608, 247555.58480165608, 247555.58480165608, 247555.58480165608, 247555.58480165608, 247555.58480165608, 247555.58480165608, 247555.58480165608, 247555.58480165608, 247555.58480165608, 247555.58480165608, 247555.58480165608, 247555.58480165608, 247555.58480165608, 247555.58480165608, 247555.58480165608, 247555.58480165608, 247555.58480165608, 247555.58480165608, 247555.58480165608, 247555.58480165608, 247555.58480165608, 247555.58480165608, 247555.58480165608, 247555.58480165608, 247555.58480165608, 247555.58480165608, 247555.58480165608, 247555.58480165608, 247555.58480165608, 247555.58480165608, 247555.58480165608, 247555.58480165608, 247555.58480165608, 247555.58480165608, 247555.58480165608, 247555.58480165608, 247555.58480165608, 247555.58480165608, 247555.58480165608, 247555.58480165608, 247555.58480165608, 247555.58480165608, 247555.58480165608, 247555.58480165608, 247555.58480165608, 247555.58480165608, 247555.58480165608, 247555.58480165608, 247555.58480165608, 247555.58480165608, 247555.58480165608, 247555.58480165608, 247555.58480165608, 247555.58480165608, 247555.58480165608, 247555.58480165608, 247555.58480165608, 247555.58480165608, 247555.58480165608, 247555.58480165608, 247555.58480165608, 247555.58480165608, 247555.58480165608, 247555.58480165608, 247555.58480165608, 247555.58480165608, 247555.58480165608, 247555.58480165608, 247555.58480165608, 247555.58480165608, 247555.58480165608, 247555.58480165608, 247555.58480165608, 247555.58480165608, 247555.58480165608, 247555.58480165608, 247555.58480165608, 247555.58480165608, 247555.58480165608, 247555.58480165608, 247555.58480165608, 247555.58480165608, 247555.58480165608, 247555.58480165608]\n"
     ]
    },
    {
     "name": "stderr",
     "output_type": "stream",
     "text": [
      "C:\\Users\\OmarZazou\\AppData\\Local\\Temp\\ipykernel_9384\\2737902214.py:6: UserWarning: \n",
      "\n",
      "`distplot` is a deprecated function and will be removed in seaborn v0.14.0.\n",
      "\n",
      "Please adapt your code to use either `displot` (a figure-level function with\n",
      "similar flexibility) or `histplot` (an axes-level function for histograms).\n",
      "\n",
      "For a guide to updating your code to use the new functions, please see\n",
      "https://gist.github.com/mwaskom/de44147ed2974457ad6372750bbe5751\n",
      "\n",
      "  ax = sns.distplot(mean_income)\n",
      "C:\\Users\\OmarZazou\\anaconda3\\envs\\iod\\Lib\\site-packages\\seaborn\\_oldcore.py:1498: FutureWarning: is_categorical_dtype is deprecated and will be removed in a future version. Use isinstance(dtype, CategoricalDtype) instead\n",
      "  if pd.api.types.is_categorical_dtype(vector):\n",
      "C:\\Users\\OmarZazou\\anaconda3\\envs\\iod\\Lib\\site-packages\\seaborn\\_oldcore.py:1119: FutureWarning: use_inf_as_na option is deprecated and will be removed in a future version. Convert inf values to NaN before operating instead.\n",
      "  with pd.option_context('mode.use_inf_as_na', True):\n",
      "C:\\Users\\OmarZazou\\anaconda3\\envs\\iod\\Lib\\site-packages\\seaborn\\distributions.py:2511: UserWarning: Dataset has 0 variance; skipping density estimate. Pass `warn_singular=False` to disable this warning.\n",
      "  kdeplot(**{axis: a}, ax=ax, color=kde_color, **kde_kws)\n"
     ]
    },
    {
     "data": {
      "image/png": "[encoded data removed]",
      "text/plain": [
       "<Figure size 640x480 with 1 Axes>"
      ]
     },
     "metadata": {},
     "output_type": "display_data"
    }
   ],
   "source": [
    "# ANSWER\n",
    "sample_mean_list = sample_mean_calcs(household, 'Total Household Income', 1000, 50)\n",
    "print(sample_mean_list)\n",
    "create_hist(mean_income, sample_mean_list)"
   ]
  },
  {
   "cell_type": "markdown",
   "metadata": {
    "id": "61vjImD6Wp_p"
   },
   "source": [
    "###### 8.A Describe the shape of the histogram of sample means (using sample size of 50)"
   ]
  },
  {
   "cell_type": "markdown",
   "metadata": {
    "id": "RQmiqmA3Wp_r"
   },
   "source": [
    "**ANSWER:**\n"
   ]
  },
  {
   "cell_type": "markdown",
   "metadata": {
    "id": "S4CYvqnWWp_s"
   },
   "source": [
    "###### 8.B What is mean of the distribution of sample means?"
   ]
  },
  {
   "cell_type": "code",
   "execution_count": 117,
   "metadata": {
    "id": "u9o6BrUOWp_t"
   },
   "outputs": [
    {
     "data": {
      "text/plain": [
       "247555.58480165616"
      ]
     },
     "execution_count": 117,
     "metadata": {},
     "output_type": "execute_result"
    }
   ],
   "source": [
    "# ANSWER\n",
    "np.mean(sample_mean_list)"
   ]
  },
  {
   "cell_type": "markdown",
   "metadata": {
    "id": "vWIOMBaJWp_w"
   },
   "source": [
    "**ANSWER:**\n",
    "\n",
    "> If repeated random samples of a given size n are taken from a population of values for a quantitative variable, where the population mean is μ (mu) and the population standard deviation is σ (sigma) then the mean of all sample means (x-bars) is population mean μ (mu)."
   ]
  },
  {
   "cell_type": "markdown",
   "metadata": {
    "id": "qsjv6QjVWp_w"
   },
   "source": [
    "###### 8.C As the sample size grew, did your results confirm the CLT?"
   ]
  },
  {
   "cell_type": "markdown",
   "metadata": {
    "id": "SgwjPt_sWp_9"
   },
   "source": [
    "**ANSWER:**\n",
    "\n"
   ]
  },
  {
   "cell_type": "markdown",
   "metadata": {
    "id": "Pc-3XvwPnfkk"
   },
   "source": [
    "\n",
    "\n",
    "---\n",
    "\n",
    "\n",
    "\n",
    "---\n",
    "\n",
    "\n",
    "\n",
    "> > > > > > > > > © 2023 Institute of Data\n",
    "\n",
    "\n",
    "---\n",
    "\n",
    "\n",
    "\n",
    "---\n",
    "\n",
    "\n",
    "\n"
   ]
  }
 ],
 "metadata": {
  "colab": {
   "provenance": []
  },
  "kernelspec": {
   "display_name": "Python 3 (ipykernel)",
   "language": "python",
   "name": "python3"
  },
  "language_info": {
   "codemirror_mode": {
    "name": "ipython",
    "version": 3
   },
   "file_extension": ".py",
   "mimetype": "text/x-python",
   "name": "python",
   "nbconvert_exporter": "python",
   "pygments_lexer": "ipython3",
   "version": "3.11.5"
  }
 },
 "nbformat": 4,
 "nbformat_minor": 4
}
